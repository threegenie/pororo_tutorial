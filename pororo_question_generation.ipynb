{
  "nbformat": 4,
  "nbformat_minor": 0,
  "metadata": {
    "colab": {
      "name": "pororo question generation.ipynb",
      "provenance": [],
      "authorship_tag": "ABX9TyP5/z/OR8TpIZ40vHtKziVs",
      "include_colab_link": true
    },
    "kernelspec": {
      "name": "python3",
      "display_name": "Python 3"
    },
    "language_info": {
      "name": "python"
    }
  },
  "cells": [
    {
      "cell_type": "markdown",
      "metadata": {
        "id": "view-in-github",
        "colab_type": "text"
      },
      "source": [
        "<a href=\"https://colab.research.google.com/github/threegenie/pororo_tutorial/blob/main/pororo_question_generation.ipynb\" target=\"_parent\"><img src=\"https://colab.research.google.com/assets/colab-badge.svg\" alt=\"Open In Colab\"/></a>"
      ]
    },
    {
      "cell_type": "code",
      "metadata": {
        "id": "hs0NG8r1ksFy"
      },
      "source": [
        "import pandas as pd\n",
        "import numpy as np\n",
        "import sys, os"
      ],
      "execution_count": 1,
      "outputs": []
    },
    {
      "cell_type": "code",
      "metadata": {
        "id": "C9sacTQ5k0xQ"
      },
      "source": [
        "%%capture \n",
        "pip install pororo"
      ],
      "execution_count": 2,
      "outputs": []
    },
    {
      "cell_type": "code",
      "metadata": {
        "colab": {
          "base_uri": "https://localhost:8080/"
        },
        "id": "cTH0lCxmlArM",
        "outputId": "928a4734-3f26-4f27-e289-819646d8a505"
      },
      "source": [
        "from pororo import Pororo"
      ],
      "execution_count": 3,
      "outputs": [
        {
          "output_type": "stream",
          "name": "stderr",
          "text": [
            "[Korean Sentence Splitter]: Initializing Kss...\n"
          ]
        }
      ]
    },
    {
      "cell_type": "code",
      "metadata": {
        "id": "IRd2wzoimIaO"
      },
      "source": [
        "%%capture \n",
        "pip install python-mecab-ko"
      ],
      "execution_count": 4,
      "outputs": []
    }
  ]
}