{
  "nbformat": 4,
  "nbformat_minor": 0,
  "metadata": {
    "colab": {
      "name": "pororo tutorial.ipynb",
      "provenance": [],
      "authorship_tag": "ABX9TyN8T+FUDTxWt/bL8b8QEiez",
      "include_colab_link": true
    },
    "kernelspec": {
      "name": "python3",
      "display_name": "Python 3"
    },
    "language_info": {
      "name": "python"
    }
  },
  "cells": [
    {
      "cell_type": "markdown",
      "metadata": {
        "id": "view-in-github",
        "colab_type": "text"
      },
      "source": [
        "<a href=\"https://colab.research.google.com/github/threegenie/pororo_tutorial/blob/main/pororo_tutorial.ipynb\" target=\"_parent\"><img src=\"https://colab.research.google.com/assets/colab-badge.svg\" alt=\"Open In Colab\"/></a>"
      ]
    },
    {
      "cell_type": "code",
      "metadata": {
        "id": "hs0NG8r1ksFy"
      },
      "source": [
        "import pandas as pd\n",
        "import numpy as np\n",
        "import sys, os"
      ],
      "execution_count": null,
      "outputs": []
    },
    {
      "cell_type": "code",
      "metadata": {
        "id": "C9sacTQ5k0xQ"
      },
      "source": [
        "%%capture \n",
        "pip install pororo"
      ],
      "execution_count": null,
      "outputs": []
    },
    {
      "cell_type": "code",
      "metadata": {
        "colab": {
          "base_uri": "https://localhost:8080/"
        },
        "id": "cTH0lCxmlArM",
        "outputId": "af2c79c6-5cb5-44fb-b7ac-567ce8e22b66"
      },
      "source": [
        "from pororo import Pororo"
      ],
      "execution_count": null,
      "outputs": [
        {
          "output_type": "stream",
          "name": "stderr",
          "text": [
            "[Korean Sentence Splitter]: Initializing Kss...\n"
          ]
        }
      ]
    },
    {
      "cell_type": "code",
      "metadata": {
        "colab": {
          "base_uri": "https://localhost:8080/"
        },
        "id": "IRd2wzoimIaO",
        "outputId": "35df7101-823c-44b2-d8f2-8f5b946e2a48"
      },
      "source": [
        "pip install python-mecab-ko"
      ],
      "execution_count": null,
      "outputs": [
        {
          "output_type": "stream",
          "name": "stdout",
          "text": [
            "Collecting python-mecab-ko\n",
            "  Downloading python-mecab-ko-1.0.12.tar.gz (9.7 kB)\n",
            "Collecting pybind11~=2.0\n",
            "  Downloading pybind11-2.7.1-py2.py3-none-any.whl (200 kB)\n",
            "\u001b[K     |████████████████████████████████| 200 kB 5.3 MB/s \n",
            "\u001b[?25hBuilding wheels for collected packages: python-mecab-ko\n",
            "  Building wheel for python-mecab-ko (setup.py) ... \u001b[?25lerror\n",
            "\u001b[31m  ERROR: Failed building wheel for python-mecab-ko\u001b[0m\n",
            "\u001b[?25h  Running setup.py clean for python-mecab-ko\n",
            "Failed to build python-mecab-ko\n",
            "Installing collected packages: pybind11, python-mecab-ko\n",
            "    Running setup.py install for python-mecab-ko ... \u001b[?25l\u001b[?25hdone\n",
            "\u001b[33m  DEPRECATION: python-mecab-ko was installed using the legacy 'setup.py install' method, because a wheel could not be built for it. A possible replacement is to fix the wheel build issue reported above. You can find discussion regarding this at https://github.com/pypa/pip/issues/8368.\u001b[0m\n",
            "Successfully installed pybind11-2.7.1 python-mecab-ko-1.0.12\n"
          ]
        }
      ]
    },
    {
      "cell_type": "markdown",
      "metadata": {
        "id": "_zaevmBop8XK"
      },
      "source": [
        "> 개체명인식"
      ]
    },
    {
      "cell_type": "code",
      "metadata": {
        "colab": {
          "base_uri": "https://localhost:8080/"
        },
        "id": "BHONetn8lEud",
        "outputId": "b1db32e1-6291-476c-81e2-3a7d06894a5e"
      },
      "source": [
        "ner = Pororo(task='ner', lang='ko')"
      ],
      "execution_count": null,
      "outputs": [
        {
          "output_type": "stream",
          "name": "stderr",
          "text": [
            "\n",
            "[nltk_data] Downloading package punkt to /root/nltk_data...\n",
            "[nltk_data]   Unzipping tokenizers/punkt.zip.\n",
            "\n"
          ]
        }
      ]
    },
    {
      "cell_type": "code",
      "metadata": {
        "colab": {
          "base_uri": "https://localhost:8080/"
        },
        "id": "Wq5dfntwlcag",
        "outputId": "1381b30e-41ce-4ff4-dbb3-5d44adb297b4"
      },
      "source": [
        "ner('NQA란 질문에 대한 답변 문단을 검색하여 답변을 찾고, 후보 답변이 여러 개인 경우 사용자의 선택을 통해 후보를 줄이고 원하는 답변을 선택할 수 있도록 하는 시스템이다.')"
      ],
      "execution_count": null,
      "outputs": [
        {
          "output_type": "execute_result",
          "data": {
            "text/plain": [
              "[('NQA', 'TERM'),\n",
              " ('란', 'O'),\n",
              " (' ', 'O'),\n",
              " ('질문에', 'O'),\n",
              " (' ', 'O'),\n",
              " ('대한', 'O'),\n",
              " (' ', 'O'),\n",
              " ('답변', 'O'),\n",
              " (' ', 'O'),\n",
              " ('문단을', 'O'),\n",
              " (' ', 'O'),\n",
              " ('검색하여', 'O'),\n",
              " (' ', 'O'),\n",
              " ('답변을', 'O'),\n",
              " (' ', 'O'),\n",
              " ('찾고,', 'O'),\n",
              " (' ', 'O'),\n",
              " ('후보', 'CIVILIZATION'),\n",
              " (' ', 'O'),\n",
              " ('답변이', 'O'),\n",
              " (' ', 'O'),\n",
              " ('여러', 'O'),\n",
              " (' ', 'O'),\n",
              " ('개인', 'O'),\n",
              " (' ', 'O'),\n",
              " ('경우', 'O'),\n",
              " (' ', 'O'),\n",
              " ('사용자', 'CIVILIZATION'),\n",
              " ('의', 'O'),\n",
              " (' ', 'O'),\n",
              " ('선택을', 'O'),\n",
              " (' ', 'O'),\n",
              " ('통해', 'O'),\n",
              " (' ', 'O'),\n",
              " ('후보', 'CIVILIZATION'),\n",
              " ('를', 'O'),\n",
              " (' ', 'O'),\n",
              " ('줄이고', 'O'),\n",
              " (' ', 'O'),\n",
              " ('원하는', 'O'),\n",
              " (' ', 'O'),\n",
              " ('답변을', 'O'),\n",
              " (' ', 'O'),\n",
              " ('선택할', 'O'),\n",
              " (' ', 'O'),\n",
              " ('수', 'O'),\n",
              " (' ', 'O'),\n",
              " ('있도록', 'O'),\n",
              " (' ', 'O'),\n",
              " ('하는', 'O'),\n",
              " (' ', 'O'),\n",
              " ('시스템이다.', 'O')]"
            ]
          },
          "metadata": {},
          "execution_count": 5
        }
      ]
    },
    {
      "cell_type": "markdown",
      "metadata": {
        "id": "c_Oafrk2p5q_"
      },
      "source": [
        "> MRC"
      ]
    },
    {
      "cell_type": "code",
      "metadata": {
        "id": "Me64JY7Bl7Yj"
      },
      "source": [
        "mrc = Pororo(task='mrc',lang='ko')"
      ],
      "execution_count": null,
      "outputs": []
    },
    {
      "cell_type": "code",
      "metadata": {
        "colab": {
          "base_uri": "https://localhost:8080/"
        },
        "id": "mJ-uJZznl_cB",
        "outputId": "e23d97f2-d0c8-4efe-c219-4ff8eae7e11c"
      },
      "source": [
        "mrc(\n",
        "\"카카오브레인이 공개한 것은?\",\n",
        "\"카카오 인공지능(AI) 연구개발 자회사 카카오브레인이 AI 솔루션을 첫 상품화했다. 카카오는 카카오브레인 '포즈(pose·자세분석) API'를 유료 공개한다고 24일 밝혔다. 카카오브레인이 AI 기술을 유료 API를 공개하는 것은 처음이다. 공개하자마자 외부 문의가 쇄도한다. 포즈는 AI 비전(VISION, 영상·화면분석) 분야 중 하나다. 카카오브레인 포즈 API는 이미지나 영상을 분석해 사람 자세를 추출하는 기능을 제공한다.\"\n",
        ")"
      ],
      "execution_count": null,
      "outputs": [
        {
          "output_type": "execute_result",
          "data": {
            "text/plain": [
              "('포즈(pose·자세분석) API', (33, 44))"
            ]
          },
          "metadata": {},
          "execution_count": 12
        }
      ]
    },
    {
      "cell_type": "markdown",
      "metadata": {
        "id": "rtJT_PnCp4fk"
      },
      "source": [
        "> 감성분석"
      ]
    },
    {
      "cell_type": "code",
      "metadata": {
        "colab": {
          "base_uri": "https://localhost:8080/"
        },
        "id": "Ypln5zk5pUyn",
        "outputId": "51433f5d-c3ca-4dde-d66b-d92ec9d2d4e5"
      },
      "source": [
        "sa = Pororo(task='sentiment',lang='ko')"
      ],
      "execution_count": null,
      "outputs": [
        {
          "output_type": "stream",
          "name": "stderr",
          "text": [
            "\n"
          ]
        }
      ]
    },
    {
      "cell_type": "code",
      "metadata": {
        "colab": {
          "base_uri": "https://localhost:8080/",
          "height": 35
        },
        "id": "LuQclde2pavk",
        "outputId": "9747b5aa-a41a-4193-f484-0725c9f4dd37"
      },
      "source": [
        "sa('밀푀유나베 밀키트 두 개 샀는데요, 이거 진짜 맛있었어요 조리도 간편하네요')"
      ],
      "execution_count": null,
      "outputs": [
        {
          "output_type": "execute_result",
          "data": {
            "application/vnd.google.colaboratory.intrinsic+json": {
              "type": "string"
            },
            "text/plain": [
              "'Positive'"
            ]
          },
          "metadata": {},
          "execution_count": 14
        }
      ]
    },
    {
      "cell_type": "markdown",
      "metadata": {
        "id": "7wWPDmtRp3LY"
      },
      "source": [
        "> 유사도"
      ]
    },
    {
      "cell_type": "code",
      "metadata": {
        "colab": {
          "base_uri": "https://localhost:8080/"
        },
        "id": "XChiqkfIpmEZ",
        "outputId": "f33aec3d-1b35-4a21-8f61-83175baa415e"
      },
      "source": [
        "si = Pororo(task='similarity',lang='ko')"
      ],
      "execution_count": null,
      "outputs": [
        {
          "output_type": "stream",
          "name": "stderr",
          "text": [
            "\n"
          ]
        }
      ]
    },
    {
      "cell_type": "code",
      "metadata": {
        "colab": {
          "base_uri": "https://localhost:8080/"
        },
        "id": "ixkrcoYnptsk",
        "outputId": "cd8f1155-b2dc-4b03-9a63-5b888c0332c8"
      },
      "source": [
        "si('가장 흔한 방법은 오픈소스를 이용하는 방법입니다.','다른 방법으로는 상용화된 API를 활용하는 방법입니다.')"
      ],
      "execution_count": null,
      "outputs": [
        {
          "output_type": "execute_result",
          "data": {
            "text/plain": [
              "0.468"
            ]
          },
          "metadata": {},
          "execution_count": 16
        }
      ]
    }
  ]
}